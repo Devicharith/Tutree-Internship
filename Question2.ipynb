{
  "nbformat": 4,
  "nbformat_minor": 0,
  "metadata": {
    "colab": {
      "name": "Question2.ipynb",
      "provenance": [],
      "authorship_tag": "ABX9TyPu7rpNOdgQioXZKoQylljo",
      "include_colab_link": true
    },
    "kernelspec": {
      "name": "python3",
      "display_name": "Python 3"
    }
  },
  "cells": [
    {
      "cell_type": "markdown",
      "metadata": {
        "id": "view-in-github",
        "colab_type": "text"
      },
      "source": [
        "<a href=\"https://colab.research.google.com/github/Devicharith/Tutree-Internship/blob/master/Question2.ipynb\" target=\"_parent\"><img src=\"https://colab.research.google.com/assets/colab-badge.svg\" alt=\"Open In Colab\"/></a>"
      ]
    },
    {
      "cell_type": "code",
      "metadata": {
        "id": "KvdU1I0oq8ME"
      },
      "source": [
        "#Import the pandas library\n",
        "import pandas as pd\n",
        "#read the dataset\n",
        "df = pd.read_csv('location of the dataset')\n",
        "\n",
        "'''suppose we have multiple independent variables lets say\n",
        "  'brand','style','rating','quality'\n",
        "  suppose we want to remove duplicates in a column called raing \n",
        "'''\n",
        "pd.drop_duplicates(subset = ['rating'])\n",
        "\n",
        "''' if no subset is provided rows that are completely identical are dropped down from the dataset.\n",
        "   There are few more parameters to play with like keep\n",
        "'''\n",
        "pd.drop_duplicates(subset = ['rating'],keep = 'last ')\n",
        "\n",
        "\"This line removes the duplicates from the beginning if we change keep to first last duplicates are removed\""
      ],
      "execution_count": null,
      "outputs": []
    }
  ]
}